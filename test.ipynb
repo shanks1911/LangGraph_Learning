{
 "cells": [
  {
   "cell_type": "code",
   "execution_count": 1,
   "id": "41a65d07",
   "metadata": {},
   "outputs": [
    {
     "name": "stdout",
     "output_type": "stream",
     "text": [
      "{'title': 'Inception', 'year': 2010}\n"
     ]
    }
   ],
   "source": [
    "from typing import TypedDict, Any, Optional, Union\n",
    "\n",
    "class Movie(TypedDict):\n",
    "    title: str\n",
    "    year: int\n",
    "\n",
    "movie = Movie(title=\"Inception\", year=2010)\n",
    "print(movie)"
   ]
  },
  {
   "cell_type": "code",
   "execution_count": 2,
   "id": "465755c6",
   "metadata": {},
   "outputs": [
    {
     "name": "stdout",
     "output_type": "stream",
     "text": [
      "16\n",
      "Hello, Alice!\n",
      "This is a test.\n",
      "None\n"
     ]
    }
   ],
   "source": [
    "def square(x: Union[int, float]) -> Union[int, float]:\n",
    "    \"\"\"Returns the square of a number.\"\"\"\n",
    "    return x * x\n",
    "def greet(name: Optional[str]) -> str:\n",
    "    \"\"\"Returns a greeting message.\"\"\"\n",
    "    if name is None:\n",
    "        return \"Hello, World!\"\n",
    "    return f\"Hello, {name}!\"\n",
    "def print_val(x: Any):\n",
    "    print(x)\n",
    "\n",
    "# Example usage\n",
    "print(square(4))  # Output: 16\n",
    "print(greet(\"Alice\"))  # Output: Hello, Alice!\n",
    "print(print_val(\"This is a test.\"))  # Output: This is a test."
   ]
  },
  {
   "cell_type": "code",
   "execution_count": 3,
   "id": "3cb55f0c",
   "metadata": {},
   "outputs": [
    {
     "name": "stdout",
     "output_type": "stream",
     "text": [
      "[1, 4, 9, 16]\n"
     ]
    }
   ],
   "source": [
    "# lambda functions\n",
    "nums = [1,2,3,4]\n",
    "squared_nums = list(map(lambda x: x**2, nums))\n",
    "print(squared_nums)  # Output: [1, 4, 9, 16]"
   ]
  },
  {
   "cell_type": "code",
   "execution_count": null,
   "id": "755f54e5",
   "metadata": {},
   "outputs": [],
   "source": []
  }
 ],
 "metadata": {
  "kernelspec": {
   "display_name": "Python 3",
   "language": "python",
   "name": "python3"
  },
  "language_info": {
   "codemirror_mode": {
    "name": "ipython",
    "version": 3
   },
   "file_extension": ".py",
   "mimetype": "text/x-python",
   "name": "python",
   "nbconvert_exporter": "python",
   "pygments_lexer": "ipython3",
   "version": "3.12.0"
  }
 },
 "nbformat": 4,
 "nbformat_minor": 5
}
